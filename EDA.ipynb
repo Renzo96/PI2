{
 "cells": [
  {
   "cell_type": "code",
   "execution_count": 14,
   "metadata": {},
   "outputs": [],
   "source": [
    "#Inicialmente importamos las librerías que posteriormente utilizaremos\n",
    "\n",
    "import pandas as pd\n",
    "import numpy as np\n",
    "import yfinance as yf\n",
    "import datetime as dt\n",
    "import matplotlib.pyplot as plt\n",
    "import matplotlib.colors as col\n",
    "import seaborn as sns\n",
    "from statsmodels.tsa.seasonal import seasonal_decompose\n",
    "import missingno as msno\n",
    "import scipy.optimize as sco\n",
    "import scipy.interpolate as sci\n",
    "from sklearn.preprocessing import MinMaxScaler\n",
    "import requests"
   ]
  },
  {
   "cell_type": "code",
   "execution_count": 2,
   "metadata": {},
   "outputs": [
    {
     "name": "stdout",
     "output_type": "stream",
     "text": [
      "[*********************100%***********************]  1 of 1 completed\n"
     ]
    }
   ],
   "source": [
    "start = dt.datetime(2000,1,1)\n",
    "end = dt.datetime.now()\n",
    "\n",
    "sp500_data = yf.download('^GSPC', start=start, end= end)['Adj Close']"
   ]
  },
  {
   "cell_type": "code",
   "execution_count": 3,
   "metadata": {},
   "outputs": [],
   "source": [
    "sp500m = sp500_data.resample('M').apply(lambda x: x.iloc[-1,])"
   ]
  },
  {
   "cell_type": "code",
   "execution_count": 4,
   "metadata": {},
   "outputs": [
    {
     "name": "stderr",
     "output_type": "stream",
     "text": [
      "C:\\Users\\Renzo\\AppData\\Local\\Packages\\PythonSoftwareFoundation.Python.3.11_qbz5n2kfra8p0\\LocalCache\\local-packages\\Python311\\site-packages\\pandas\\core\\arraylike.py:402: RuntimeWarning: invalid value encountered in log\n",
      "  result = getattr(ufunc, method)(*inputs, **kwargs)\n"
     ]
    }
   ],
   "source": [
    "sp500_var = np.log(sp500m.pct_change())"
   ]
  },
  {
   "cell_type": "code",
   "execution_count": 5,
   "metadata": {},
   "outputs": [],
   "source": [
    "#Chequeamos de wikipedia la lista de activos que compones el SP500\n",
    "\n",
    "r = requests.get('https://en.wikipedia.org/wiki/List_of_S%26P_500_companies')\n",
    "c = r.content\n",
    "componentes = pd.read_html(c)[0]\n"
   ]
  },
  {
   "cell_type": "code",
   "execution_count": 6,
   "metadata": {},
   "outputs": [
    {
     "name": "stdout",
     "output_type": "stream",
     "text": [
      "<class 'pandas.core.frame.DataFrame'>\n",
      "RangeIndex: 503 entries, 0 to 502\n",
      "Data columns (total 8 columns):\n",
      " #   Column                 Non-Null Count  Dtype \n",
      "---  ------                 --------------  ----- \n",
      " 0   Symbol                 503 non-null    object\n",
      " 1   Security               503 non-null    object\n",
      " 2   GICS Sector            503 non-null    object\n",
      " 3   GICS Sub-Industry      503 non-null    object\n",
      " 4   Headquarters Location  503 non-null    object\n",
      " 5   Date added             493 non-null    object\n",
      " 6   CIK                    503 non-null    int64 \n",
      " 7   Founded                503 non-null    object\n",
      "dtypes: int64(1), object(7)\n",
      "memory usage: 31.6+ KB\n"
     ]
    }
   ],
   "source": [
    "componentes.info()"
   ]
  },
  {
   "cell_type": "code",
   "execution_count": 7,
   "metadata": {},
   "outputs": [
    {
     "data": {
      "text/plain": [
       "array(['Industrials', 'Health Care', 'Information Technology',\n",
       "       'Communication Services', 'Consumer Staples',\n",
       "       'Consumer Discretionary', 'Utilities', 'Financials', 'Materials',\n",
       "       'Real Estate', 'Energy'], dtype=object)"
      ]
     },
     "execution_count": 7,
     "metadata": {},
     "output_type": "execute_result"
    }
   ],
   "source": [
    "#Vemos los sectores que componen el índice\n",
    "\n",
    "componentes['GICS Sector'].unique()"
   ]
  },
  {
   "cell_type": "code",
   "execution_count": 8,
   "metadata": {},
   "outputs": [],
   "source": [
    "start = dt.datetime(2000,1,1)\n",
    "end = dt.datetime.now()"
   ]
  },
  {
   "cell_type": "code",
   "execution_count": null,
   "metadata": {},
   "outputs": [],
   "source": [
    "def portfolio_annualised_performance(weights, mean_returns, cov_matrix):\n",
    "    returns = np.sum(mean_returns*weights ) *252\n",
    "    std = np.sqrt(np.dot(weights.T, np.dot(cov_matrix, weights))) * np.sqrt(252)\n",
    "    return std, returns"
   ]
  },
  {
   "attachments": {},
   "cell_type": "markdown",
   "metadata": {},
   "source": [
    "El desempeño de cada sector se puede observar a partir de los ETFs de cada sector, siendo estos una canasta de activos que cotiza en bolsa\n",
    "\n",
    "Los ETFs se encuentran en el link: https://www.etf.com/sections/etf-strategist-corner/sector-sector-sp-500 "
   ]
  },
  {
   "cell_type": "code",
   "execution_count": 9,
   "metadata": {},
   "outputs": [
    {
     "data": {
      "text/html": [
       "<div>\n",
       "<style scoped>\n",
       "    .dataframe tbody tr th:only-of-type {\n",
       "        vertical-align: middle;\n",
       "    }\n",
       "\n",
       "    .dataframe tbody tr th {\n",
       "        vertical-align: top;\n",
       "    }\n",
       "\n",
       "    .dataframe thead th {\n",
       "        text-align: right;\n",
       "    }\n",
       "</style>\n",
       "<table border=\"1\" class=\"dataframe\">\n",
       "  <thead>\n",
       "    <tr style=\"text-align: right;\">\n",
       "      <th></th>\n",
       "      <th>Sector</th>\n",
       "      <th>ETF</th>\n",
       "    </tr>\n",
       "  </thead>\n",
       "  <tbody>\n",
       "    <tr>\n",
       "      <th>0</th>\n",
       "      <td>Industrials</td>\n",
       "      <td>XLI</td>\n",
       "    </tr>\n",
       "    <tr>\n",
       "      <th>1</th>\n",
       "      <td>Health Care</td>\n",
       "      <td>XLV</td>\n",
       "    </tr>\n",
       "    <tr>\n",
       "      <th>2</th>\n",
       "      <td>Information Technology</td>\n",
       "      <td>XLK</td>\n",
       "    </tr>\n",
       "    <tr>\n",
       "      <th>3</th>\n",
       "      <td>Communication Services</td>\n",
       "      <td>XLC</td>\n",
       "    </tr>\n",
       "    <tr>\n",
       "      <th>4</th>\n",
       "      <td>Consumer Staples</td>\n",
       "      <td>XLP</td>\n",
       "    </tr>\n",
       "    <tr>\n",
       "      <th>5</th>\n",
       "      <td>Consumer Discretionary</td>\n",
       "      <td>XLY</td>\n",
       "    </tr>\n",
       "    <tr>\n",
       "      <th>6</th>\n",
       "      <td>Utilities</td>\n",
       "      <td>XLU</td>\n",
       "    </tr>\n",
       "    <tr>\n",
       "      <th>7</th>\n",
       "      <td>Financials</td>\n",
       "      <td>XLF</td>\n",
       "    </tr>\n",
       "    <tr>\n",
       "      <th>8</th>\n",
       "      <td>Materials</td>\n",
       "      <td>XLB</td>\n",
       "    </tr>\n",
       "    <tr>\n",
       "      <th>9</th>\n",
       "      <td>Real Estate</td>\n",
       "      <td>XLRE</td>\n",
       "    </tr>\n",
       "    <tr>\n",
       "      <th>10</th>\n",
       "      <td>Energy</td>\n",
       "      <td>XLE</td>\n",
       "    </tr>\n",
       "  </tbody>\n",
       "</table>\n",
       "</div>"
      ],
      "text/plain": [
       "                    Sector   ETF\n",
       "0              Industrials   XLI\n",
       "1              Health Care   XLV\n",
       "2   Information Technology   XLK\n",
       "3   Communication Services   XLC\n",
       "4         Consumer Staples   XLP\n",
       "5   Consumer Discretionary   XLY\n",
       "6                Utilities   XLU\n",
       "7               Financials   XLF\n",
       "8                Materials   XLB\n",
       "9              Real Estate  XLRE\n",
       "10                  Energy   XLE"
      ]
     },
     "execution_count": 9,
     "metadata": {},
     "output_type": "execute_result"
    }
   ],
   "source": [
    "etfs = ['XLI','XLV','XLK',\n",
    "        'XLC','XLP',\n",
    "        'XLY','XLU','XLF','XLB',\n",
    "        'XLRE','XLE']\n",
    "\n",
    "etf_sect = pd.DataFrame({'Sector':componentes['GICS Sector'].unique(),\n",
    "                          'ETF': etfs})\n",
    "etf_sect"
   ]
  },
  {
   "cell_type": "code",
   "execution_count": 10,
   "metadata": {},
   "outputs": [
    {
     "name": "stdout",
     "output_type": "stream",
     "text": [
      "[*********************100%***********************]  11 of 11 completed\n"
     ]
    },
    {
     "data": {
      "text/html": [
       "<div>\n",
       "<style scoped>\n",
       "    .dataframe tbody tr th:only-of-type {\n",
       "        vertical-align: middle;\n",
       "    }\n",
       "\n",
       "    .dataframe tbody tr th {\n",
       "        vertical-align: top;\n",
       "    }\n",
       "\n",
       "    .dataframe thead th {\n",
       "        text-align: right;\n",
       "    }\n",
       "</style>\n",
       "<table border=\"1\" class=\"dataframe\">\n",
       "  <thead>\n",
       "    <tr style=\"text-align: right;\">\n",
       "      <th></th>\n",
       "      <th>XLB</th>\n",
       "      <th>XLC</th>\n",
       "      <th>XLE</th>\n",
       "      <th>XLF</th>\n",
       "      <th>XLI</th>\n",
       "      <th>XLK</th>\n",
       "      <th>XLP</th>\n",
       "      <th>XLRE</th>\n",
       "      <th>XLU</th>\n",
       "      <th>XLV</th>\n",
       "      <th>XLY</th>\n",
       "    </tr>\n",
       "    <tr>\n",
       "      <th>Date</th>\n",
       "      <th></th>\n",
       "      <th></th>\n",
       "      <th></th>\n",
       "      <th></th>\n",
       "      <th></th>\n",
       "      <th></th>\n",
       "      <th></th>\n",
       "      <th></th>\n",
       "      <th></th>\n",
       "      <th></th>\n",
       "      <th></th>\n",
       "    </tr>\n",
       "  </thead>\n",
       "  <tbody>\n",
       "    <tr>\n",
       "      <th>2000-01-03</th>\n",
       "      <td>15.332280</td>\n",
       "      <td>NaN</td>\n",
       "      <td>14.677707</td>\n",
       "      <td>11.641028</td>\n",
       "      <td>18.901943</td>\n",
       "      <td>42.116341</td>\n",
       "      <td>13.171592</td>\n",
       "      <td>NaN</td>\n",
       "      <td>12.086851</td>\n",
       "      <td>21.487965</td>\n",
       "      <td>22.854635</td>\n",
       "    </tr>\n",
       "    <tr>\n",
       "      <th>2000-01-04</th>\n",
       "      <td>15.184669</td>\n",
       "      <td>NaN</td>\n",
       "      <td>14.401412</td>\n",
       "      <td>11.132131</td>\n",
       "      <td>18.379751</td>\n",
       "      <td>39.979671</td>\n",
       "      <td>12.800685</td>\n",
       "      <td>NaN</td>\n",
       "      <td>11.722250</td>\n",
       "      <td>21.000351</td>\n",
       "      <td>22.167097</td>\n",
       "    </tr>\n",
       "    <tr>\n",
       "      <th>2000-01-05</th>\n",
       "      <td>15.811991</td>\n",
       "      <td>NaN</td>\n",
       "      <td>14.781307</td>\n",
       "      <td>11.044668</td>\n",
       "      <td>18.297831</td>\n",
       "      <td>39.386124</td>\n",
       "      <td>13.026846</td>\n",
       "      <td>NaN</td>\n",
       "      <td>12.018060</td>\n",
       "      <td>20.811956</td>\n",
       "      <td>21.894461</td>\n",
       "    </tr>\n",
       "    <tr>\n",
       "      <th>2000-01-06</th>\n",
       "      <td>16.217897</td>\n",
       "      <td>NaN</td>\n",
       "      <td>15.351151</td>\n",
       "      <td>11.529709</td>\n",
       "      <td>18.543579</td>\n",
       "      <td>38.080376</td>\n",
       "      <td>13.271095</td>\n",
       "      <td>NaN</td>\n",
       "      <td>11.997420</td>\n",
       "      <td>20.878456</td>\n",
       "      <td>22.143396</td>\n",
       "    </tr>\n",
       "    <tr>\n",
       "      <th>2000-01-07</th>\n",
       "      <td>16.208675</td>\n",
       "      <td>NaN</td>\n",
       "      <td>15.515193</td>\n",
       "      <td>11.720547</td>\n",
       "      <td>19.250092</td>\n",
       "      <td>38.745129</td>\n",
       "      <td>14.112413</td>\n",
       "      <td>NaN</td>\n",
       "      <td>12.100616</td>\n",
       "      <td>21.133333</td>\n",
       "      <td>23.186556</td>\n",
       "    </tr>\n",
       "    <tr>\n",
       "      <th>...</th>\n",
       "      <td>...</td>\n",
       "      <td>...</td>\n",
       "      <td>...</td>\n",
       "      <td>...</td>\n",
       "      <td>...</td>\n",
       "      <td>...</td>\n",
       "      <td>...</td>\n",
       "      <td>...</td>\n",
       "      <td>...</td>\n",
       "      <td>...</td>\n",
       "      <td>...</td>\n",
       "    </tr>\n",
       "    <tr>\n",
       "      <th>2023-04-24</th>\n",
       "      <td>81.250000</td>\n",
       "      <td>57.630001</td>\n",
       "      <td>86.279999</td>\n",
       "      <td>33.139999</td>\n",
       "      <td>100.849998</td>\n",
       "      <td>147.110001</td>\n",
       "      <td>76.879997</td>\n",
       "      <td>37.080002</td>\n",
       "      <td>69.970001</td>\n",
       "      <td>135.050003</td>\n",
       "      <td>147.350006</td>\n",
       "    </tr>\n",
       "    <tr>\n",
       "      <th>2023-04-25</th>\n",
       "      <td>79.489998</td>\n",
       "      <td>56.730000</td>\n",
       "      <td>84.660004</td>\n",
       "      <td>32.570000</td>\n",
       "      <td>98.989998</td>\n",
       "      <td>143.970001</td>\n",
       "      <td>76.779999</td>\n",
       "      <td>36.740002</td>\n",
       "      <td>69.900002</td>\n",
       "      <td>133.610001</td>\n",
       "      <td>144.429993</td>\n",
       "    </tr>\n",
       "    <tr>\n",
       "      <th>2023-04-26</th>\n",
       "      <td>78.550003</td>\n",
       "      <td>56.130001</td>\n",
       "      <td>83.529999</td>\n",
       "      <td>32.259998</td>\n",
       "      <td>97.120003</td>\n",
       "      <td>146.110001</td>\n",
       "      <td>76.180000</td>\n",
       "      <td>36.439999</td>\n",
       "      <td>68.260002</td>\n",
       "      <td>131.710007</td>\n",
       "      <td>143.690002</td>\n",
       "    </tr>\n",
       "    <tr>\n",
       "      <th>2023-04-27</th>\n",
       "      <td>79.620003</td>\n",
       "      <td>59.389999</td>\n",
       "      <td>83.830002</td>\n",
       "      <td>32.779999</td>\n",
       "      <td>99.040001</td>\n",
       "      <td>149.210007</td>\n",
       "      <td>77.029999</td>\n",
       "      <td>37.320000</td>\n",
       "      <td>69.080002</td>\n",
       "      <td>132.399994</td>\n",
       "      <td>147.479996</td>\n",
       "    </tr>\n",
       "    <tr>\n",
       "      <th>2023-04-28</th>\n",
       "      <td>80.550003</td>\n",
       "      <td>59.900002</td>\n",
       "      <td>85.129997</td>\n",
       "      <td>33.169998</td>\n",
       "      <td>100.000000</td>\n",
       "      <td>150.830002</td>\n",
       "      <td>77.440002</td>\n",
       "      <td>37.750000</td>\n",
       "      <td>68.980003</td>\n",
       "      <td>133.529999</td>\n",
       "      <td>147.860001</td>\n",
       "    </tr>\n",
       "  </tbody>\n",
       "</table>\n",
       "<p>5868 rows × 11 columns</p>\n",
       "</div>"
      ],
      "text/plain": [
       "                  XLB        XLC        XLE        XLF         XLI  \\\n",
       "Date                                                                 \n",
       "2000-01-03  15.332280        NaN  14.677707  11.641028   18.901943   \n",
       "2000-01-04  15.184669        NaN  14.401412  11.132131   18.379751   \n",
       "2000-01-05  15.811991        NaN  14.781307  11.044668   18.297831   \n",
       "2000-01-06  16.217897        NaN  15.351151  11.529709   18.543579   \n",
       "2000-01-07  16.208675        NaN  15.515193  11.720547   19.250092   \n",
       "...               ...        ...        ...        ...         ...   \n",
       "2023-04-24  81.250000  57.630001  86.279999  33.139999  100.849998   \n",
       "2023-04-25  79.489998  56.730000  84.660004  32.570000   98.989998   \n",
       "2023-04-26  78.550003  56.130001  83.529999  32.259998   97.120003   \n",
       "2023-04-27  79.620003  59.389999  83.830002  32.779999   99.040001   \n",
       "2023-04-28  80.550003  59.900002  85.129997  33.169998  100.000000   \n",
       "\n",
       "                   XLK        XLP       XLRE        XLU         XLV  \\\n",
       "Date                                                                  \n",
       "2000-01-03   42.116341  13.171592        NaN  12.086851   21.487965   \n",
       "2000-01-04   39.979671  12.800685        NaN  11.722250   21.000351   \n",
       "2000-01-05   39.386124  13.026846        NaN  12.018060   20.811956   \n",
       "2000-01-06   38.080376  13.271095        NaN  11.997420   20.878456   \n",
       "2000-01-07   38.745129  14.112413        NaN  12.100616   21.133333   \n",
       "...                ...        ...        ...        ...         ...   \n",
       "2023-04-24  147.110001  76.879997  37.080002  69.970001  135.050003   \n",
       "2023-04-25  143.970001  76.779999  36.740002  69.900002  133.610001   \n",
       "2023-04-26  146.110001  76.180000  36.439999  68.260002  131.710007   \n",
       "2023-04-27  149.210007  77.029999  37.320000  69.080002  132.399994   \n",
       "2023-04-28  150.830002  77.440002  37.750000  68.980003  133.529999   \n",
       "\n",
       "                   XLY  \n",
       "Date                    \n",
       "2000-01-03   22.854635  \n",
       "2000-01-04   22.167097  \n",
       "2000-01-05   21.894461  \n",
       "2000-01-06   22.143396  \n",
       "2000-01-07   23.186556  \n",
       "...                ...  \n",
       "2023-04-24  147.350006  \n",
       "2023-04-25  144.429993  \n",
       "2023-04-26  143.690002  \n",
       "2023-04-27  147.479996  \n",
       "2023-04-28  147.860001  \n",
       "\n",
       "[5868 rows x 11 columns]"
      ]
     },
     "execution_count": 10,
     "metadata": {},
     "output_type": "execute_result"
    }
   ],
   "source": [
    "#Descargamos de yahoo finance info las cotizaciones de dichos ETFs\n",
    "\n",
    "start = '2000-01-01'\n",
    "sectores = yf.download(list(etf_sect.ETF.values),start,end)['Adj Close']\n",
    "sectores\n"
   ]
  },
  {
   "cell_type": "code",
   "execution_count": 11,
   "metadata": {},
   "outputs": [],
   "source": [
    "sectores = sectores.resample('M').apply(lambda x: x.iloc[-1,])\n"
   ]
  },
  {
   "cell_type": "code",
   "execution_count": 12,
   "metadata": {},
   "outputs": [
    {
     "data": {
      "text/plain": [
       "<Figure size 2000x2500 with 0 Axes>"
      ]
     },
     "execution_count": 12,
     "metadata": {},
     "output_type": "execute_result"
    },
    {
     "data": {
      "text/plain": [
       "<Figure size 2000x2500 with 0 Axes>"
      ]
     },
     "metadata": {},
     "output_type": "display_data"
    }
   ],
   "source": [
    "\n",
    "scaler = MinMaxScaler()\n",
    "scaled = scaler.fit_transform(sectores)\n",
    "scaled = pd.DataFrame(scaled, columns=sectores.columns,index=sectores.index)\n",
    "plt.figure(figsize = (20,25))\n",
    "\n",
    "\n"
   ]
  },
  {
   "cell_type": "code",
   "execution_count": 13,
   "metadata": {},
   "outputs": [
    {
     "data": {
      "text/html": [
       "<div>\n",
       "<style scoped>\n",
       "    .dataframe tbody tr th:only-of-type {\n",
       "        vertical-align: middle;\n",
       "    }\n",
       "\n",
       "    .dataframe tbody tr th {\n",
       "        vertical-align: top;\n",
       "    }\n",
       "\n",
       "    .dataframe thead th {\n",
       "        text-align: right;\n",
       "    }\n",
       "</style>\n",
       "<table border=\"1\" class=\"dataframe\">\n",
       "  <thead>\n",
       "    <tr style=\"text-align: right;\">\n",
       "      <th></th>\n",
       "      <th>XLB</th>\n",
       "      <th>XLC</th>\n",
       "      <th>XLE</th>\n",
       "      <th>XLF</th>\n",
       "      <th>XLI</th>\n",
       "      <th>XLK</th>\n",
       "      <th>XLP</th>\n",
       "      <th>XLRE</th>\n",
       "      <th>XLU</th>\n",
       "      <th>XLV</th>\n",
       "      <th>XLY</th>\n",
       "    </tr>\n",
       "  </thead>\n",
       "  <tbody>\n",
       "    <tr>\n",
       "      <th>count</th>\n",
       "      <td>279.000000</td>\n",
       "      <td>58.000000</td>\n",
       "      <td>279.000000</td>\n",
       "      <td>279.000000</td>\n",
       "      <td>279.000000</td>\n",
       "      <td>279.000000</td>\n",
       "      <td>279.000000</td>\n",
       "      <td>90.000000</td>\n",
       "      <td>279.000000</td>\n",
       "      <td>279.000000</td>\n",
       "      <td>279.000000</td>\n",
       "    </tr>\n",
       "    <tr>\n",
       "      <th>mean</th>\n",
       "      <td>0.006330</td>\n",
       "      <td>0.004014</td>\n",
       "      <td>0.006201</td>\n",
       "      <td>0.003724</td>\n",
       "      <td>0.006183</td>\n",
       "      <td>0.004902</td>\n",
       "      <td>0.006274</td>\n",
       "      <td>0.005077</td>\n",
       "      <td>0.006218</td>\n",
       "      <td>0.006570</td>\n",
       "      <td>0.007058</td>\n",
       "    </tr>\n",
       "    <tr>\n",
       "      <th>std</th>\n",
       "      <td>0.059783</td>\n",
       "      <td>0.063192</td>\n",
       "      <td>0.074771</td>\n",
       "      <td>0.063726</td>\n",
       "      <td>0.054960</td>\n",
       "      <td>0.067293</td>\n",
       "      <td>0.035678</td>\n",
       "      <td>0.050057</td>\n",
       "      <td>0.044410</td>\n",
       "      <td>0.041300</td>\n",
       "      <td>0.055182</td>\n",
       "    </tr>\n",
       "    <tr>\n",
       "      <th>min</th>\n",
       "      <td>-0.253541</td>\n",
       "      <td>-0.152359</td>\n",
       "      <td>-0.421152</td>\n",
       "      <td>-0.303786</td>\n",
       "      <td>-0.206114</td>\n",
       "      <td>-0.286432</td>\n",
       "      <td>-0.134774</td>\n",
       "      <td>-0.163774</td>\n",
       "      <td>-0.159250</td>\n",
       "      <td>-0.156411</td>\n",
       "      <td>-0.194002</td>\n",
       "    </tr>\n",
       "    <tr>\n",
       "      <th>25%</th>\n",
       "      <td>-0.027044</td>\n",
       "      <td>-0.034232</td>\n",
       "      <td>-0.031674</td>\n",
       "      <td>-0.024497</td>\n",
       "      <td>-0.021383</td>\n",
       "      <td>-0.026666</td>\n",
       "      <td>-0.012321</td>\n",
       "      <td>-0.018843</td>\n",
       "      <td>-0.014546</td>\n",
       "      <td>-0.018727</td>\n",
       "      <td>-0.019666</td>\n",
       "    </tr>\n",
       "    <tr>\n",
       "      <th>50%</th>\n",
       "      <td>0.009399</td>\n",
       "      <td>0.008392</td>\n",
       "      <td>0.012697</td>\n",
       "      <td>0.009612</td>\n",
       "      <td>0.010039</td>\n",
       "      <td>0.015606</td>\n",
       "      <td>0.009498</td>\n",
       "      <td>0.010208</td>\n",
       "      <td>0.012220</td>\n",
       "      <td>0.010399</td>\n",
       "      <td>0.010474</td>\n",
       "    </tr>\n",
       "    <tr>\n",
       "      <th>75%</th>\n",
       "      <td>0.041980</td>\n",
       "      <td>0.037876</td>\n",
       "      <td>0.049542</td>\n",
       "      <td>0.037878</td>\n",
       "      <td>0.038099</td>\n",
       "      <td>0.045687</td>\n",
       "      <td>0.029726</td>\n",
       "      <td>0.031629</td>\n",
       "      <td>0.035615</td>\n",
       "      <td>0.031533</td>\n",
       "      <td>0.042051</td>\n",
       "    </tr>\n",
       "    <tr>\n",
       "      <th>max</th>\n",
       "      <td>0.159875</td>\n",
       "      <td>0.137794</td>\n",
       "      <td>0.268224</td>\n",
       "      <td>0.197156</td>\n",
       "      <td>0.166094</td>\n",
       "      <td>0.221282</td>\n",
       "      <td>0.099435</td>\n",
       "      <td>0.102033</td>\n",
       "      <td>0.124113</td>\n",
       "      <td>0.118561</td>\n",
       "      <td>0.172966</td>\n",
       "    </tr>\n",
       "  </tbody>\n",
       "</table>\n",
       "</div>"
      ],
      "text/plain": [
       "              XLB        XLC         XLE         XLF         XLI         XLK  \\\n",
       "count  279.000000  58.000000  279.000000  279.000000  279.000000  279.000000   \n",
       "mean     0.006330   0.004014    0.006201    0.003724    0.006183    0.004902   \n",
       "std      0.059783   0.063192    0.074771    0.063726    0.054960    0.067293   \n",
       "min     -0.253541  -0.152359   -0.421152   -0.303786   -0.206114   -0.286432   \n",
       "25%     -0.027044  -0.034232   -0.031674   -0.024497   -0.021383   -0.026666   \n",
       "50%      0.009399   0.008392    0.012697    0.009612    0.010039    0.015606   \n",
       "75%      0.041980   0.037876    0.049542    0.037878    0.038099    0.045687   \n",
       "max      0.159875   0.137794    0.268224    0.197156    0.166094    0.221282   \n",
       "\n",
       "              XLP       XLRE         XLU         XLV         XLY  \n",
       "count  279.000000  90.000000  279.000000  279.000000  279.000000  \n",
       "mean     0.006274   0.005077    0.006218    0.006570    0.007058  \n",
       "std      0.035678   0.050057    0.044410    0.041300    0.055182  \n",
       "min     -0.134774  -0.163774   -0.159250   -0.156411   -0.194002  \n",
       "25%     -0.012321  -0.018843   -0.014546   -0.018727   -0.019666  \n",
       "50%      0.009498   0.010208    0.012220    0.010399    0.010474  \n",
       "75%      0.029726   0.031629    0.035615    0.031533    0.042051  \n",
       "max      0.099435   0.102033    0.124113    0.118561    0.172966  "
      ]
     },
     "execution_count": 13,
     "metadata": {},
     "output_type": "execute_result"
    }
   ],
   "source": [
    "sectores_rent = np.log1p(sectores.pct_change())\n",
    "sectores_rent.describe()"
   ]
  },
  {
   "cell_type": "code",
   "execution_count": 14,
   "metadata": {},
   "outputs": [
    {
     "data": {
      "text/html": [
       "<div>\n",
       "<style scoped>\n",
       "    .dataframe tbody tr th:only-of-type {\n",
       "        vertical-align: middle;\n",
       "    }\n",
       "\n",
       "    .dataframe tbody tr th {\n",
       "        vertical-align: top;\n",
       "    }\n",
       "\n",
       "    .dataframe thead th {\n",
       "        text-align: right;\n",
       "    }\n",
       "</style>\n",
       "<table border=\"1\" class=\"dataframe\">\n",
       "  <thead>\n",
       "    <tr style=\"text-align: right;\">\n",
       "      <th></th>\n",
       "      <th>Sector</th>\n",
       "      <th>ETF</th>\n",
       "      <th>Rentabilidad</th>\n",
       "      <th>Volatilidad</th>\n",
       "      <th>Sharpe</th>\n",
       "    </tr>\n",
       "  </thead>\n",
       "  <tbody>\n",
       "    <tr>\n",
       "      <th>6</th>\n",
       "      <td>Utilities</td>\n",
       "      <td>XLU</td>\n",
       "      <td>0.077938</td>\n",
       "      <td>0.123592</td>\n",
       "      <td>0.630606</td>\n",
       "    </tr>\n",
       "    <tr>\n",
       "      <th>9</th>\n",
       "      <td>Real Estate</td>\n",
       "      <td>XLRE</td>\n",
       "      <td>0.081753</td>\n",
       "      <td>0.143066</td>\n",
       "      <td>0.571433</td>\n",
       "    </tr>\n",
       "    <tr>\n",
       "      <th>8</th>\n",
       "      <td>Materials</td>\n",
       "      <td>XLB</td>\n",
       "      <td>0.077225</td>\n",
       "      <td>0.153842</td>\n",
       "      <td>0.501974</td>\n",
       "    </tr>\n",
       "    <tr>\n",
       "      <th>10</th>\n",
       "      <td>Energy</td>\n",
       "      <td>XLE</td>\n",
       "      <td>0.088060</td>\n",
       "      <td>0.191154</td>\n",
       "      <td>0.460676</td>\n",
       "    </tr>\n",
       "    <tr>\n",
       "      <th>4</th>\n",
       "      <td>Consumer Staples</td>\n",
       "      <td>XLP</td>\n",
       "      <td>0.076771</td>\n",
       "      <td>0.190387</td>\n",
       "      <td>0.403237</td>\n",
       "    </tr>\n",
       "    <tr>\n",
       "      <th>0</th>\n",
       "      <td>Industrials</td>\n",
       "      <td>XLI</td>\n",
       "      <td>0.078665</td>\n",
       "      <td>0.207094</td>\n",
       "      <td>0.379851</td>\n",
       "    </tr>\n",
       "    <tr>\n",
       "      <th>7</th>\n",
       "      <td>Financials</td>\n",
       "      <td>XLF</td>\n",
       "      <td>0.062656</td>\n",
       "      <td>0.173403</td>\n",
       "      <td>0.361329</td>\n",
       "    </tr>\n",
       "    <tr>\n",
       "      <th>2</th>\n",
       "      <td>Information Technology</td>\n",
       "      <td>XLK</td>\n",
       "      <td>0.077000</td>\n",
       "      <td>0.259016</td>\n",
       "      <td>0.297278</td>\n",
       "    </tr>\n",
       "    <tr>\n",
       "      <th>5</th>\n",
       "      <td>Consumer Discretionary</td>\n",
       "      <td>XLY</td>\n",
       "      <td>0.060441</td>\n",
       "      <td>0.233111</td>\n",
       "      <td>0.259279</td>\n",
       "    </tr>\n",
       "    <tr>\n",
       "      <th>1</th>\n",
       "      <td>Health Care</td>\n",
       "      <td>XLV</td>\n",
       "      <td>0.049251</td>\n",
       "      <td>0.218905</td>\n",
       "      <td>0.224989</td>\n",
       "    </tr>\n",
       "    <tr>\n",
       "      <th>3</th>\n",
       "      <td>Communication Services</td>\n",
       "      <td>XLC</td>\n",
       "      <td>0.045613</td>\n",
       "      <td>0.220752</td>\n",
       "      <td>0.206623</td>\n",
       "    </tr>\n",
       "  </tbody>\n",
       "</table>\n",
       "</div>"
      ],
      "text/plain": [
       "                    Sector   ETF  Rentabilidad  Volatilidad    Sharpe\n",
       "6                Utilities   XLU      0.077938     0.123592  0.630606\n",
       "9              Real Estate  XLRE      0.081753     0.143066  0.571433\n",
       "8                Materials   XLB      0.077225     0.153842  0.501974\n",
       "10                  Energy   XLE      0.088060     0.191154  0.460676\n",
       "4         Consumer Staples   XLP      0.076771     0.190387  0.403237\n",
       "0              Industrials   XLI      0.078665     0.207094  0.379851\n",
       "7               Financials   XLF      0.062656     0.173403  0.361329\n",
       "2   Information Technology   XLK      0.077000     0.259016  0.297278\n",
       "5   Consumer Discretionary   XLY      0.060441     0.233111  0.259279\n",
       "1              Health Care   XLV      0.049251     0.218905  0.224989\n",
       "3   Communication Services   XLC      0.045613     0.220752  0.206623"
      ]
     },
     "execution_count": 14,
     "metadata": {},
     "output_type": "execute_result"
    }
   ],
   "source": [
    "#Aquí observamos un ranking de los sectores con mayor Sharpe\n",
    "\n",
    "comparacion = etf_sect.copy()\n",
    "# comparacion = comparacion.append({'Sector':'SP500','ETF':'SPY'},ignore_index=True)\n",
    "# Para ver mejor la información, anualizamos la rentabilidad usando la formula de matematicas financieras ((1+i)^t)-1\n",
    "comparacion['Rentabilidad'] = ((1+sectores_rent.mean().values)**12)-1 \n",
    "#Igual para la volatilidad con la formula sigma*raiz(t)\n",
    "comparacion['Volatilidad'] = sectores_rent.std().values*np.sqrt(12)\n",
    "comparacion['Sharpe'] = comparacion.Rentabilidad/comparacion.Volatilidad\n",
    "comparacion.sort_values(['Sharpe'],ascending=False)"
   ]
  },
  {
   "cell_type": "code",
   "execution_count": 15,
   "metadata": {},
   "outputs": [
    {
     "data": {
      "text/plain": [
       "['Utilities',\n",
       " 'Real Estate',\n",
       " 'Materials',\n",
       " 'Energy',\n",
       " 'Consumer Staples',\n",
       " 'Industrials',\n",
       " 'Financials',\n",
       " 'Information Technology',\n",
       " 'Consumer Discretionary',\n",
       " 'Health Care',\n",
       " 'Communication Services']"
      ]
     },
     "execution_count": 15,
     "metadata": {},
     "output_type": "execute_result"
    }
   ],
   "source": [
    "#Decidí tomar todo por una cuestión de curiosidad, por lo que se tendran en cuenta la totalidad de los activos en la recomendación del portfolio. Significando esto que se estudio todo el universo posible para la recomendación, quedando solamente aquellas\n",
    "# más fiables desde el punto de vista del estudio\n",
    "\n",
    "gics = list(comparacion.sort_values(['Sharpe'],ascending=False)['Sector'].head(12).values)\n",
    "gics"
   ]
  },
  {
   "cell_type": "code",
   "execution_count": 16,
   "metadata": {},
   "outputs": [
    {
     "data": {
      "text/html": [
       "<div>\n",
       "<style scoped>\n",
       "    .dataframe tbody tr th:only-of-type {\n",
       "        vertical-align: middle;\n",
       "    }\n",
       "\n",
       "    .dataframe tbody tr th {\n",
       "        vertical-align: top;\n",
       "    }\n",
       "\n",
       "    .dataframe thead th {\n",
       "        text-align: right;\n",
       "    }\n",
       "</style>\n",
       "<table border=\"1\" class=\"dataframe\">\n",
       "  <thead>\n",
       "    <tr style=\"text-align: right;\">\n",
       "      <th></th>\n",
       "      <th>Symbol</th>\n",
       "    </tr>\n",
       "    <tr>\n",
       "      <th>GICS Sector</th>\n",
       "      <th></th>\n",
       "    </tr>\n",
       "  </thead>\n",
       "  <tbody>\n",
       "    <tr>\n",
       "      <th>Communication Services</th>\n",
       "      <td>24</td>\n",
       "    </tr>\n",
       "    <tr>\n",
       "      <th>Consumer Discretionary</th>\n",
       "      <td>53</td>\n",
       "    </tr>\n",
       "    <tr>\n",
       "      <th>Consumer Staples</th>\n",
       "      <td>37</td>\n",
       "    </tr>\n",
       "    <tr>\n",
       "      <th>Energy</th>\n",
       "      <td>23</td>\n",
       "    </tr>\n",
       "    <tr>\n",
       "      <th>Financials</th>\n",
       "      <td>73</td>\n",
       "    </tr>\n",
       "    <tr>\n",
       "      <th>Health Care</th>\n",
       "      <td>65</td>\n",
       "    </tr>\n",
       "    <tr>\n",
       "      <th>Industrials</th>\n",
       "      <td>73</td>\n",
       "    </tr>\n",
       "    <tr>\n",
       "      <th>Information Technology</th>\n",
       "      <td>66</td>\n",
       "    </tr>\n",
       "    <tr>\n",
       "      <th>Materials</th>\n",
       "      <td>29</td>\n",
       "    </tr>\n",
       "    <tr>\n",
       "      <th>Real Estate</th>\n",
       "      <td>30</td>\n",
       "    </tr>\n",
       "    <tr>\n",
       "      <th>Utilities</th>\n",
       "      <td>30</td>\n",
       "    </tr>\n",
       "  </tbody>\n",
       "</table>\n",
       "</div>"
      ],
      "text/plain": [
       "                        Symbol\n",
       "GICS Sector                   \n",
       "Communication Services      24\n",
       "Consumer Discretionary      53\n",
       "Consumer Staples            37\n",
       "Energy                      23\n",
       "Financials                  73\n",
       "Health Care                 65\n",
       "Industrials                 73\n",
       "Information Technology      66\n",
       "Materials                   29\n",
       "Real Estate                 30\n",
       "Utilities                   30"
      ]
     },
     "execution_count": 16,
     "metadata": {},
     "output_type": "execute_result"
    }
   ],
   "source": [
    "universo = componentes[componentes['GICS Sector'].isin(gics)][['Symbol','GICS Sector']]\n",
    "universo.groupby(['GICS Sector']).count()"
   ]
  },
  {
   "cell_type": "code",
   "execution_count": 17,
   "metadata": {},
   "outputs": [
    {
     "data": {
      "text/plain": [
       "(503, 2)"
      ]
     },
     "execution_count": 17,
     "metadata": {},
     "output_type": "execute_result"
    }
   ],
   "source": [
    "universo.shape"
   ]
  },
  {
   "cell_type": "code",
   "execution_count": 18,
   "metadata": {},
   "outputs": [
    {
     "name": "stdout",
     "output_type": "stream",
     "text": [
      "[*********************100%***********************]  503 of 503 completed\n",
      "\n",
      "6 Failed downloads:\n",
      "- WMB: No data found for this date range, symbol may be delisted\n",
      "- LYB: No data found for this date range, symbol may be delisted\n",
      "- VLO: No data found for this date range, symbol may be delisted\n",
      "- MTCH: No data found for this date range, symbol may be delisted\n",
      "- BRK.B: No timezone found, symbol may be delisted\n",
      "- BF.B: No data found for this date range, symbol may be delisted\n"
     ]
    }
   ],
   "source": [
    "#Descargamos datos de todas las acciones del SyP500\n",
    "\n",
    "universo_data = yf.download(list(universo.Symbol.values),start = '2000-01-01')['Adj Close']"
   ]
  },
  {
   "cell_type": "code",
   "execution_count": 19,
   "metadata": {},
   "outputs": [
    {
     "data": {
      "text/plain": [
       "(5868, 503)"
      ]
     },
     "execution_count": 19,
     "metadata": {},
     "output_type": "execute_result"
    }
   ],
   "source": [
    "#Corroboramos su shape\n",
    "\n",
    "universo_data.shape"
   ]
  },
  {
   "cell_type": "code",
   "execution_count": 20,
   "metadata": {},
   "outputs": [],
   "source": [
    "columnas = universo_data.columns"
   ]
  },
  {
   "cell_type": "code",
   "execution_count": 21,
   "metadata": {},
   "outputs": [],
   "source": [
    "#Eliminamos aquellos stocks que tienen menos de 5 años de cotización\n",
    "\n",
    "min_values = 1260\n",
    "n_values = len(universo_data)\n",
    "for columna in columnas:\n",
    "    if n_values - universo_data[columna].count() >= min_values:\n",
    "        universo_data.drop(columna, axis=1, inplace=True)\n"
   ]
  },
  {
   "cell_type": "code",
   "execution_count": 22,
   "metadata": {},
   "outputs": [
    {
     "data": {
      "text/plain": [
       "5868"
      ]
     },
     "execution_count": 22,
     "metadata": {},
     "output_type": "execute_result"
    }
   ],
   "source": [
    "len(universo_data)"
   ]
  },
  {
   "cell_type": "code",
   "execution_count": 23,
   "metadata": {},
   "outputs": [
    {
     "data": {
      "text/plain": [
       "(5868, 403)"
      ]
     },
     "execution_count": 23,
     "metadata": {},
     "output_type": "execute_result"
    }
   ],
   "source": [
    "#Acá corroboramos cuantos activos se eliminaron de universo_data a través del dropeo de activos con tiempo de cotización inferior a 5 años\n",
    "\n",
    "universo_data.shape"
   ]
  },
  {
   "cell_type": "code",
   "execution_count": 24,
   "metadata": {},
   "outputs": [],
   "source": [
    "#msno.bar(universo_data)"
   ]
  },
  {
   "cell_type": "code",
   "execution_count": 25,
   "metadata": {},
   "outputs": [],
   "source": [
    "universo_data.index = pd.to_datetime(universo_data.index)"
   ]
  },
  {
   "cell_type": "code",
   "execution_count": 26,
   "metadata": {},
   "outputs": [],
   "source": [
    "universo_data = universo_data.resample('M').apply(lambda x:x.iloc[-1,])\n",
    "universo_rent = np.log1p(universo_data.pct_change())"
   ]
  },
  {
   "cell_type": "code",
   "execution_count": 27,
   "metadata": {},
   "outputs": [
    {
     "data": {
      "text/html": [
       "<div>\n",
       "<style scoped>\n",
       "    .dataframe tbody tr th:only-of-type {\n",
       "        vertical-align: middle;\n",
       "    }\n",
       "\n",
       "    .dataframe tbody tr th {\n",
       "        vertical-align: top;\n",
       "    }\n",
       "\n",
       "    .dataframe thead th {\n",
       "        text-align: right;\n",
       "    }\n",
       "</style>\n",
       "<table border=\"1\" class=\"dataframe\">\n",
       "  <thead>\n",
       "    <tr style=\"text-align: right;\">\n",
       "      <th></th>\n",
       "      <th>Symbol</th>\n",
       "      <th>Rentabilidad</th>\n",
       "      <th>Volatilidad</th>\n",
       "      <th>Sharpe</th>\n",
       "    </tr>\n",
       "  </thead>\n",
       "  <tbody>\n",
       "    <tr>\n",
       "      <th>42</th>\n",
       "      <td>AZO</td>\n",
       "      <td>0.217827</td>\n",
       "      <td>0.242403</td>\n",
       "      <td>0.898616</td>\n",
       "    </tr>\n",
       "    <tr>\n",
       "      <th>245</th>\n",
       "      <td>MNST</td>\n",
       "      <td>0.351145</td>\n",
       "      <td>0.396837</td>\n",
       "      <td>0.884859</td>\n",
       "    </tr>\n",
       "    <tr>\n",
       "      <th>280</th>\n",
       "      <td>ORLY</td>\n",
       "      <td>0.234440</td>\n",
       "      <td>0.266153</td>\n",
       "      <td>0.880844</td>\n",
       "    </tr>\n",
       "    <tr>\n",
       "      <th>5</th>\n",
       "      <td>ACGL</td>\n",
       "      <td>0.177901</td>\n",
       "      <td>0.202808</td>\n",
       "      <td>0.877190</td>\n",
       "    </tr>\n",
       "    <tr>\n",
       "      <th>275</th>\n",
       "      <td>ODFL</td>\n",
       "      <td>0.277454</td>\n",
       "      <td>0.316747</td>\n",
       "      <td>0.875949</td>\n",
       "    </tr>\n",
       "    <tr>\n",
       "      <th>369</th>\n",
       "      <td>UNH</td>\n",
       "      <td>0.212234</td>\n",
       "      <td>0.244969</td>\n",
       "      <td>0.866371</td>\n",
       "    </tr>\n",
       "    <tr>\n",
       "      <th>72</th>\n",
       "      <td>CHD</td>\n",
       "      <td>0.164218</td>\n",
       "      <td>0.193261</td>\n",
       "      <td>0.849720</td>\n",
       "    </tr>\n",
       "    <tr>\n",
       "      <th>385</th>\n",
       "      <td>WEC</td>\n",
       "      <td>0.137756</td>\n",
       "      <td>0.165510</td>\n",
       "      <td>0.832310</td>\n",
       "    </tr>\n",
       "    <tr>\n",
       "      <th>319</th>\n",
       "      <td>ROL</td>\n",
       "      <td>0.193840</td>\n",
       "      <td>0.234632</td>\n",
       "      <td>0.826144</td>\n",
       "    </tr>\n",
       "    <tr>\n",
       "      <th>328</th>\n",
       "      <td>SHW</td>\n",
       "      <td>0.189674</td>\n",
       "      <td>0.232869</td>\n",
       "      <td>0.814507</td>\n",
       "    </tr>\n",
       "    <tr>\n",
       "      <th>260</th>\n",
       "      <td>NEE</td>\n",
       "      <td>0.157491</td>\n",
       "      <td>0.193438</td>\n",
       "      <td>0.814167</td>\n",
       "    </tr>\n",
       "    <tr>\n",
       "      <th>221</th>\n",
       "      <td>LMT</td>\n",
       "      <td>0.176637</td>\n",
       "      <td>0.219588</td>\n",
       "      <td>0.804404</td>\n",
       "    </tr>\n",
       "    <tr>\n",
       "      <th>30</th>\n",
       "      <td>ANSS</td>\n",
       "      <td>0.227575</td>\n",
       "      <td>0.291816</td>\n",
       "      <td>0.779858</td>\n",
       "    </tr>\n",
       "    <tr>\n",
       "      <th>354</th>\n",
       "      <td>TJX</td>\n",
       "      <td>0.182425</td>\n",
       "      <td>0.236881</td>\n",
       "      <td>0.770111</td>\n",
       "    </tr>\n",
       "    <tr>\n",
       "      <th>240</th>\n",
       "      <td>MKC</td>\n",
       "      <td>0.139576</td>\n",
       "      <td>0.181400</td>\n",
       "      <td>0.769437</td>\n",
       "    </tr>\n",
       "    <tr>\n",
       "      <th>391</th>\n",
       "      <td>WRB</td>\n",
       "      <td>0.186649</td>\n",
       "      <td>0.242664</td>\n",
       "      <td>0.769165</td>\n",
       "    </tr>\n",
       "    <tr>\n",
       "      <th>272</th>\n",
       "      <td>NVR</td>\n",
       "      <td>0.230283</td>\n",
       "      <td>0.301778</td>\n",
       "      <td>0.763089</td>\n",
       "    </tr>\n",
       "    <tr>\n",
       "      <th>360</th>\n",
       "      <td>TSCO</td>\n",
       "      <td>0.264452</td>\n",
       "      <td>0.348536</td>\n",
       "      <td>0.758750</td>\n",
       "    </tr>\n",
       "    <tr>\n",
       "      <th>218</th>\n",
       "      <td>LIN</td>\n",
       "      <td>0.153039</td>\n",
       "      <td>0.203611</td>\n",
       "      <td>0.751626</td>\n",
       "    </tr>\n",
       "    <tr>\n",
       "      <th>107</th>\n",
       "      <td>DHR</td>\n",
       "      <td>0.158191</td>\n",
       "      <td>0.211706</td>\n",
       "      <td>0.747220</td>\n",
       "    </tr>\n",
       "  </tbody>\n",
       "</table>\n",
       "</div>"
      ],
      "text/plain": [
       "    Symbol  Rentabilidad  Volatilidad    Sharpe\n",
       "42     AZO      0.217827     0.242403  0.898616\n",
       "245   MNST      0.351145     0.396837  0.884859\n",
       "280   ORLY      0.234440     0.266153  0.880844\n",
       "5     ACGL      0.177901     0.202808  0.877190\n",
       "275   ODFL      0.277454     0.316747  0.875949\n",
       "369    UNH      0.212234     0.244969  0.866371\n",
       "72     CHD      0.164218     0.193261  0.849720\n",
       "385    WEC      0.137756     0.165510  0.832310\n",
       "319    ROL      0.193840     0.234632  0.826144\n",
       "328    SHW      0.189674     0.232869  0.814507\n",
       "260    NEE      0.157491     0.193438  0.814167\n",
       "221    LMT      0.176637     0.219588  0.804404\n",
       "30    ANSS      0.227575     0.291816  0.779858\n",
       "354    TJX      0.182425     0.236881  0.770111\n",
       "240    MKC      0.139576     0.181400  0.769437\n",
       "391    WRB      0.186649     0.242664  0.769165\n",
       "272    NVR      0.230283     0.301778  0.763089\n",
       "360   TSCO      0.264452     0.348536  0.758750\n",
       "218    LIN      0.153039     0.203611  0.751626\n",
       "107    DHR      0.158191     0.211706  0.747220"
      ]
     },
     "execution_count": 27,
     "metadata": {},
     "output_type": "execute_result"
    }
   ],
   "source": [
    "#Creamos una tabla rentabilidad, volatilidad, sharpe. Un a vez creada, ordenamos de manera descendente en relación al ratio de Sharpe\n",
    "\n",
    "acciones = pd.DataFrame({'Symbol':universo_data.columns,\n",
    "                        'Rentabilidad':((1+universo_rent.mean().values)**12)-1,\n",
    "                        'Volatilidad':universo_rent.std().values*np.sqrt(12)})\n",
    "\n",
    "acciones['Sharpe'] = acciones.Rentabilidad/acciones.Volatilidad\n",
    "acciones.sort_values(['Sharpe'], ascending=False).head(20)                       "
   ]
  },
  {
   "cell_type": "code",
   "execution_count": 28,
   "metadata": {},
   "outputs": [
    {
     "data": {
      "text/html": [
       "<div>\n",
       "<style scoped>\n",
       "    .dataframe tbody tr th:only-of-type {\n",
       "        vertical-align: middle;\n",
       "    }\n",
       "\n",
       "    .dataframe tbody tr th {\n",
       "        vertical-align: top;\n",
       "    }\n",
       "\n",
       "    .dataframe thead th {\n",
       "        text-align: right;\n",
       "    }\n",
       "</style>\n",
       "<table border=\"1\" class=\"dataframe\">\n",
       "  <thead>\n",
       "    <tr style=\"text-align: right;\">\n",
       "      <th></th>\n",
       "      <th>Symbol</th>\n",
       "      <th>Rentabilidad</th>\n",
       "      <th>Volatilidad</th>\n",
       "      <th>Sharpe</th>\n",
       "      <th>GICS Sector</th>\n",
       "    </tr>\n",
       "  </thead>\n",
       "  <tbody>\n",
       "    <tr>\n",
       "      <th>0</th>\n",
       "      <td>AZO</td>\n",
       "      <td>0.217827</td>\n",
       "      <td>0.242403</td>\n",
       "      <td>0.898616</td>\n",
       "      <td>Consumer Discretionary</td>\n",
       "    </tr>\n",
       "    <tr>\n",
       "      <th>1</th>\n",
       "      <td>MNST</td>\n",
       "      <td>0.351145</td>\n",
       "      <td>0.396837</td>\n",
       "      <td>0.884859</td>\n",
       "      <td>Consumer Staples</td>\n",
       "    </tr>\n",
       "    <tr>\n",
       "      <th>2</th>\n",
       "      <td>ORLY</td>\n",
       "      <td>0.234440</td>\n",
       "      <td>0.266153</td>\n",
       "      <td>0.880844</td>\n",
       "      <td>Consumer Discretionary</td>\n",
       "    </tr>\n",
       "    <tr>\n",
       "      <th>3</th>\n",
       "      <td>ACGL</td>\n",
       "      <td>0.177901</td>\n",
       "      <td>0.202808</td>\n",
       "      <td>0.877190</td>\n",
       "      <td>Financials</td>\n",
       "    </tr>\n",
       "    <tr>\n",
       "      <th>4</th>\n",
       "      <td>ODFL</td>\n",
       "      <td>0.277454</td>\n",
       "      <td>0.316747</td>\n",
       "      <td>0.875949</td>\n",
       "      <td>Industrials</td>\n",
       "    </tr>\n",
       "    <tr>\n",
       "      <th>5</th>\n",
       "      <td>UNH</td>\n",
       "      <td>0.212234</td>\n",
       "      <td>0.244969</td>\n",
       "      <td>0.866371</td>\n",
       "      <td>Health Care</td>\n",
       "    </tr>\n",
       "    <tr>\n",
       "      <th>6</th>\n",
       "      <td>CHD</td>\n",
       "      <td>0.164218</td>\n",
       "      <td>0.193261</td>\n",
       "      <td>0.849720</td>\n",
       "      <td>Consumer Staples</td>\n",
       "    </tr>\n",
       "    <tr>\n",
       "      <th>7</th>\n",
       "      <td>WEC</td>\n",
       "      <td>0.137756</td>\n",
       "      <td>0.165510</td>\n",
       "      <td>0.832310</td>\n",
       "      <td>Utilities</td>\n",
       "    </tr>\n",
       "    <tr>\n",
       "      <th>8</th>\n",
       "      <td>ROL</td>\n",
       "      <td>0.193840</td>\n",
       "      <td>0.234632</td>\n",
       "      <td>0.826144</td>\n",
       "      <td>Industrials</td>\n",
       "    </tr>\n",
       "    <tr>\n",
       "      <th>9</th>\n",
       "      <td>SHW</td>\n",
       "      <td>0.189674</td>\n",
       "      <td>0.232869</td>\n",
       "      <td>0.814507</td>\n",
       "      <td>Materials</td>\n",
       "    </tr>\n",
       "  </tbody>\n",
       "</table>\n",
       "</div>"
      ],
      "text/plain": [
       "  Symbol  Rentabilidad  Volatilidad    Sharpe             GICS Sector\n",
       "0    AZO      0.217827     0.242403  0.898616  Consumer Discretionary\n",
       "1   MNST      0.351145     0.396837  0.884859        Consumer Staples\n",
       "2   ORLY      0.234440     0.266153  0.880844  Consumer Discretionary\n",
       "3   ACGL      0.177901     0.202808  0.877190              Financials\n",
       "4   ODFL      0.277454     0.316747  0.875949             Industrials\n",
       "5    UNH      0.212234     0.244969  0.866371             Health Care\n",
       "6    CHD      0.164218     0.193261  0.849720        Consumer Staples\n",
       "7    WEC      0.137756     0.165510  0.832310               Utilities\n",
       "8    ROL      0.193840     0.234632  0.826144             Industrials\n",
       "9    SHW      0.189674     0.232869  0.814507               Materials"
      ]
     },
     "execution_count": 28,
     "metadata": {},
     "output_type": "execute_result"
    }
   ],
   "source": [
    "#Elijo el top 10p por ratio de Sharpe. Elijo dicho numero ya que en un estudio de posgrado uno de mis profesores citó que a partir de 15 elementos en una canasta de inversión, los efectos de la diversificación se vuelven marginales\n",
    "top10 = acciones.sort_values(['Sharpe'],ascending=False).head(10)\n",
    "top10 = pd.merge(top10,universo,on='Symbol',how='inner')\n",
    "top10"
   ]
  },
  {
   "cell_type": "code",
   "execution_count": 5,
   "metadata": {},
   "outputs": [],
   "source": [
    "#Tomamos los símbolos del top10\n",
    "\n",
    "# symbols = top10['Symbol']\n",
    "symbols = ['AAPL','AMZN','GOOGL','META']"
   ]
  },
  {
   "cell_type": "code",
   "execution_count": 6,
   "metadata": {},
   "outputs": [
    {
     "name": "stdout",
     "output_type": "stream",
     "text": [
      "[*********************100%***********************]  4 of 4 completed\n"
     ]
    },
    {
     "data": {
      "text/html": [
       "<div>\n",
       "<style scoped>\n",
       "    .dataframe tbody tr th:only-of-type {\n",
       "        vertical-align: middle;\n",
       "    }\n",
       "\n",
       "    .dataframe tbody tr th {\n",
       "        vertical-align: top;\n",
       "    }\n",
       "\n",
       "    .dataframe thead th {\n",
       "        text-align: right;\n",
       "    }\n",
       "</style>\n",
       "<table border=\"1\" class=\"dataframe\">\n",
       "  <thead>\n",
       "    <tr style=\"text-align: right;\">\n",
       "      <th></th>\n",
       "      <th>AAPL</th>\n",
       "      <th>AMZN</th>\n",
       "      <th>GOOGL</th>\n",
       "      <th>META</th>\n",
       "    </tr>\n",
       "    <tr>\n",
       "      <th>Date</th>\n",
       "      <th></th>\n",
       "      <th></th>\n",
       "      <th></th>\n",
       "      <th></th>\n",
       "    </tr>\n",
       "  </thead>\n",
       "  <tbody>\n",
       "    <tr>\n",
       "      <th>2016-01-04</th>\n",
       "      <td>24.074738</td>\n",
       "      <td>31.849501</td>\n",
       "      <td>37.972000</td>\n",
       "      <td>102.220001</td>\n",
       "    </tr>\n",
       "    <tr>\n",
       "      <th>2016-01-05</th>\n",
       "      <td>23.471443</td>\n",
       "      <td>31.689501</td>\n",
       "      <td>38.076500</td>\n",
       "      <td>102.730003</td>\n",
       "    </tr>\n",
       "    <tr>\n",
       "      <th>2016-01-06</th>\n",
       "      <td>23.012117</td>\n",
       "      <td>31.632500</td>\n",
       "      <td>37.966499</td>\n",
       "      <td>102.970001</td>\n",
       "    </tr>\n",
       "    <tr>\n",
       "      <th>2016-01-07</th>\n",
       "      <td>22.040895</td>\n",
       "      <td>30.396999</td>\n",
       "      <td>37.049999</td>\n",
       "      <td>97.919998</td>\n",
       "    </tr>\n",
       "    <tr>\n",
       "      <th>2016-01-08</th>\n",
       "      <td>22.157448</td>\n",
       "      <td>30.352501</td>\n",
       "      <td>36.545502</td>\n",
       "      <td>97.330002</td>\n",
       "    </tr>\n",
       "    <tr>\n",
       "      <th>...</th>\n",
       "      <td>...</td>\n",
       "      <td>...</td>\n",
       "      <td>...</td>\n",
       "      <td>...</td>\n",
       "    </tr>\n",
       "    <tr>\n",
       "      <th>2017-12-22</th>\n",
       "      <td>41.540817</td>\n",
       "      <td>58.417999</td>\n",
       "      <td>53.443001</td>\n",
       "      <td>177.199997</td>\n",
       "    </tr>\n",
       "    <tr>\n",
       "      <th>2017-12-26</th>\n",
       "      <td>40.486938</td>\n",
       "      <td>58.838001</td>\n",
       "      <td>53.292500</td>\n",
       "      <td>175.990005</td>\n",
       "    </tr>\n",
       "    <tr>\n",
       "      <th>2017-12-27</th>\n",
       "      <td>40.494045</td>\n",
       "      <td>59.112999</td>\n",
       "      <td>53.009998</td>\n",
       "      <td>177.619995</td>\n",
       "    </tr>\n",
       "    <tr>\n",
       "      <th>2017-12-28</th>\n",
       "      <td>40.607979</td>\n",
       "      <td>59.305000</td>\n",
       "      <td>52.797501</td>\n",
       "      <td>177.919998</td>\n",
       "    </tr>\n",
       "    <tr>\n",
       "      <th>2017-12-29</th>\n",
       "      <td>40.168854</td>\n",
       "      <td>58.473499</td>\n",
       "      <td>52.669998</td>\n",
       "      <td>176.460007</td>\n",
       "    </tr>\n",
       "  </tbody>\n",
       "</table>\n",
       "<p>503 rows × 4 columns</p>\n",
       "</div>"
      ],
      "text/plain": [
       "                 AAPL       AMZN      GOOGL        META\n",
       "Date                                                   \n",
       "2016-01-04  24.074738  31.849501  37.972000  102.220001\n",
       "2016-01-05  23.471443  31.689501  38.076500  102.730003\n",
       "2016-01-06  23.012117  31.632500  37.966499  102.970001\n",
       "2016-01-07  22.040895  30.396999  37.049999   97.919998\n",
       "2016-01-08  22.157448  30.352501  36.545502   97.330002\n",
       "...               ...        ...        ...         ...\n",
       "2017-12-22  41.540817  58.417999  53.443001  177.199997\n",
       "2017-12-26  40.486938  58.838001  53.292500  175.990005\n",
       "2017-12-27  40.494045  59.112999  53.009998  177.619995\n",
       "2017-12-28  40.607979  59.305000  52.797501  177.919998\n",
       "2017-12-29  40.168854  58.473499  52.669998  176.460007\n",
       "\n",
       "[503 rows x 4 columns]"
      ]
     },
     "execution_count": 6,
     "metadata": {},
     "output_type": "execute_result"
    }
   ],
   "source": [
    "import yfinance as yf\n",
    "#Ahora tomamos los 10 últimos años de las acciones que filtramos por su mejor Sharpe sin tener en cuenta la tasa libre de riesgo. En este caso elegimos los últimos 10 años debido a que quiero armar un portfolio \n",
    "# que haga foco en el desempeño de los últimos años, pero teniendo en cuenta un período de cotización no menor a 5 años\n",
    "\n",
    "canasta = yf.download(symbols,start ='2016-01-01', end = '2017-12-31')['Adj Close']\n",
    "canasta"
   ]
  },
  {
   "cell_type": "code",
   "execution_count": 7,
   "metadata": {},
   "outputs": [],
   "source": [
    "#Esto lo usaremos más adelante en el armado de la frontera de eficiencia\n",
    "\n",
    "noa = len(symbols)"
   ]
  },
  {
   "cell_type": "code",
   "execution_count": 8,
   "metadata": {},
   "outputs": [
    {
     "data": {
      "text/plain": [
       "(503, 4)"
      ]
     },
     "execution_count": 8,
     "metadata": {},
     "output_type": "execute_result"
    }
   ],
   "source": [
    "canasta.shape"
   ]
  },
  {
   "cell_type": "code",
   "execution_count": 9,
   "metadata": {},
   "outputs": [
    {
     "data": {
      "text/plain": [
       "(503, 4)"
      ]
     },
     "execution_count": 9,
     "metadata": {},
     "output_type": "execute_result"
    }
   ],
   "source": [
    "canasta.dropna()\n",
    "canasta.shape"
   ]
  },
  {
   "cell_type": "code",
   "execution_count": 10,
   "metadata": {},
   "outputs": [
    {
     "data": {
      "text/plain": [
       "<Axes: xlabel='Date'>"
      ]
     },
     "execution_count": 10,
     "metadata": {},
     "output_type": "execute_result"
    },
    {
     "data": {
      "image/png": "[encoded data removed]",
      "text/plain": [
       "<Figure size 800x600 with 1 Axes>"
      ]
     },
     "metadata": {},
     "output_type": "display_data"
    }
   ],
   "source": [
    "(canasta/canasta.iloc[0]* 100).plot(figsize=(8,6))"
   ]
  },
  {
   "cell_type": "code",
   "execution_count": 12,
   "metadata": {},
   "outputs": [],
   "source": [
    "import numpy as np\n",
    "canasta_rent = np.log(canasta/canasta.shift(1))\n"
   ]
  },
  {
   "cell_type": "code",
   "execution_count": 16,
   "metadata": {},
   "outputs": [
    {
     "data": {
      "text/plain": [
       "AAPL     0.256984\n",
       "AMZN     0.304986\n",
       "GOOGL    0.164250\n",
       "META     0.274071\n",
       "dtype: float64"
      ]
     },
     "execution_count": 16,
     "metadata": {},
     "output_type": "execute_result"
    }
   ],
   "source": [
    "\n",
    "#Aquí vemos la media anualizada de los retornos\n",
    "\n",
    "pd.DataFrame.mean(canasta_rent)*252"
   ]
  },
  {
   "cell_type": "code",
   "execution_count": 17,
   "metadata": {},
   "outputs": [
    {
     "data": {
      "text/plain": [
       "AAPL     0.206826\n",
       "AMZN     0.251579\n",
       "GOOGL    0.178422\n",
       "META     0.230361\n",
       "dtype: float64"
      ]
     },
     "execution_count": 17,
     "metadata": {},
     "output_type": "execute_result"
    }
   ],
   "source": [
    "#Aquí observamos su desviación estándar, mejor conocida como volatilidad\n",
    "\n",
    "pd.DataFrame.std(canasta_rent)*np.sqrt(252)"
   ]
  },
  {
   "cell_type": "code",
   "execution_count": 18,
   "metadata": {},
   "outputs": [
    {
     "data": {
      "text/html": [
       "<div>\n",
       "<style scoped>\n",
       "    .dataframe tbody tr th:only-of-type {\n",
       "        vertical-align: middle;\n",
       "    }\n",
       "\n",
       "    .dataframe tbody tr th {\n",
       "        vertical-align: top;\n",
       "    }\n",
       "\n",
       "    .dataframe thead th {\n",
       "        text-align: right;\n",
       "    }\n",
       "</style>\n",
       "<table border=\"1\" class=\"dataframe\">\n",
       "  <thead>\n",
       "    <tr style=\"text-align: right;\">\n",
       "      <th></th>\n",
       "      <th>AAPL</th>\n",
       "      <th>AMZN</th>\n",
       "      <th>GOOGL</th>\n",
       "      <th>META</th>\n",
       "    </tr>\n",
       "  </thead>\n",
       "  <tbody>\n",
       "    <tr>\n",
       "      <th>AAPL</th>\n",
       "      <td>0.000170</td>\n",
       "      <td>0.000086</td>\n",
       "      <td>0.000072</td>\n",
       "      <td>0.000080</td>\n",
       "    </tr>\n",
       "    <tr>\n",
       "      <th>AMZN</th>\n",
       "      <td>0.000086</td>\n",
       "      <td>0.000251</td>\n",
       "      <td>0.000110</td>\n",
       "      <td>0.000139</td>\n",
       "    </tr>\n",
       "    <tr>\n",
       "      <th>GOOGL</th>\n",
       "      <td>0.000072</td>\n",
       "      <td>0.000110</td>\n",
       "      <td>0.000126</td>\n",
       "      <td>0.000108</td>\n",
       "    </tr>\n",
       "    <tr>\n",
       "      <th>META</th>\n",
       "      <td>0.000080</td>\n",
       "      <td>0.000139</td>\n",
       "      <td>0.000108</td>\n",
       "      <td>0.000211</td>\n",
       "    </tr>\n",
       "  </tbody>\n",
       "</table>\n",
       "</div>"
      ],
      "text/plain": [
       "           AAPL      AMZN     GOOGL      META\n",
       "AAPL   0.000170  0.000086  0.000072  0.000080\n",
       "AMZN   0.000086  0.000251  0.000110  0.000139\n",
       "GOOGL  0.000072  0.000110  0.000126  0.000108\n",
       "META   0.000080  0.000139  0.000108  0.000211"
      ]
     },
     "execution_count": 18,
     "metadata": {},
     "output_type": "execute_result"
    }
   ],
   "source": [
    "canasta_rent.cov(252)"
   ]
  },
  {
   "attachments": {},
   "cell_type": "markdown",
   "metadata": {},
   "source": [
    "# Efficient Frontier "
   ]
  },
  {
   "cell_type": "code",
   "execution_count": 19,
   "metadata": {},
   "outputs": [],
   "source": [
    "prets = []\n",
    "pvols = []\n",
    "\n",
    "for p in range(25000):\n",
    "    weights = np.random.random(noa)\n",
    "    weights /= np.sum(weights)\n",
    "    prets.append(np.sum(pd.DataFrame.mean(canasta_rent) * weights) * 252)\n",
    "    pvols.append(np.sqrt(np.dot(weights.T, np.dot(canasta_rent.cov() * 252, weights))))\n",
    "prets = np.array(prets)\n",
    "pvols = np.array(pvols)\n",
    "    "
   ]
  },
  {
   "cell_type": "code",
   "execution_count": 20,
   "metadata": {},
   "outputs": [
    {
     "data": {
      "image/png": "[encoded data removed]",
      "text/plain": [
       "<Figure size 800x600 with 2 Axes>"
      ]
     },
     "metadata": {},
     "output_type": "display_data"
    }
   ],
   "source": [
    "plt.figure(figsize=(8,6))\n",
    "plt.scatter(pvols, prets, c = prets/pvols, marker = 'o')\n",
    "plt.xlabel('Volatilidad')\n",
    "plt.ylabel('Retorno')\n",
    "plt.colorbar(label='Sharpe ratio')\n",
    "plt.grid(True)"
   ]
  },
  {
   "cell_type": "code",
   "execution_count": 21,
   "metadata": {},
   "outputs": [],
   "source": [
    "#Creamos una función que nos devuelva los retornos y volatilidades en base a los weights o proporciones\n",
    "\n",
    "def statistics(weights):\n",
    "    \"\"\"Returns portfolio statistics.\n",
    "    Parameters\n",
    "    ==========\n",
    "    weights : array-like\n",
    "    weights for different securities in portfolio\n",
    "    Returns\n",
    "    =======\n",
    "    pret : float\n",
    "    expected portfolio return\n",
    "    pvol : float\n",
    "    expected portfolio volatility\n",
    "    pret / pvol : float\n",
    "    Sharpe ratio for rf=0\n",
    "    \"\"\"\n",
    "    weights = np.array(weights)\n",
    "    pret = np.sum(canasta_rent.mean() * weights)*252\n",
    "    pvol = np.sqrt(np.dot(weights.T, np.dot(canasta_rent.cov() * 252, weights)))\n",
    "    return [pret, pvol,pret/pvol]"
   ]
  },
  {
   "cell_type": "code",
   "execution_count": 22,
   "metadata": {},
   "outputs": [],
   "source": [
    "#Definimos una función que maximice el Sharpe. El return va en negativo ya que se utilizará la función minimize y al minimizar algo que retorna un negativo estaría maximizando\n",
    "\n",
    "def min_sharpe(weights):\n",
    "    return -statistics(weights)[2]"
   ]
  },
  {
   "cell_type": "code",
   "execution_count": 23,
   "metadata": {},
   "outputs": [],
   "source": [
    "\n",
    "#Ver\n",
    "cons = ({'type' : 'eq', 'fun': lambda x: np.sum(x) -1 })\n",
    "bnds = tuple((0,1) for x in range(noa))"
   ]
  },
  {
   "cell_type": "code",
   "execution_count": 24,
   "metadata": {},
   "outputs": [
    {
     "name": "stdout",
     "output_type": "stream",
     "text": [
      "CPU times: total: 31.2 ms\n",
      "Wall time: 39 ms\n"
     ]
    }
   ],
   "source": [
    "%%time\n",
    "opts = sco.minimize(min_sharpe, noa * [1. / noa,], method='SLSQP',\n",
    "bounds=bnds, constraints=cons)"
   ]
  },
  {
   "cell_type": "code",
   "execution_count": 25,
   "metadata": {},
   "outputs": [
    {
     "data": {
      "text/plain": [
       " message: Optimization terminated successfully\n",
       " success: True\n",
       "  status: 0\n",
       "     fun: -1.5107767400823826\n",
       "       x: [ 4.587e-01  2.744e-01  1.056e-16  2.669e-01]\n",
       "     nit: 4\n",
       "     jac: [-6.899e-06 -3.089e-04  1.555e-01  3.294e-04]\n",
       "    nfev: 20\n",
       "    njev: 4"
      ]
     },
     "execution_count": 25,
     "metadata": {},
     "output_type": "execute_result"
    }
   ],
   "source": [
    "opts"
   ]
  },
  {
   "cell_type": "code",
   "execution_count": 26,
   "metadata": {},
   "outputs": [
    {
     "data": {
      "text/plain": [
       "array([0.45869, 0.2744 , 0.     , 0.26691])"
      ]
     },
     "execution_count": 26,
     "metadata": {},
     "output_type": "execute_result"
    }
   ],
   "source": [
    "#Vamos viendo que proporción de cada uno de los elementos nos recomienda en base a maximizar Sharpe\n",
    "\n",
    "opts['x'].round(5)"
   ]
  },
  {
   "cell_type": "code",
   "execution_count": 27,
   "metadata": {},
   "outputs": [
    {
     "data": {
      "text/plain": [
       "[0.27471660764140826, 0.18183799120703104, 1.5107767404262105]"
      ]
     },
     "execution_count": 27,
     "metadata": {},
     "output_type": "execute_result"
    }
   ],
   "source": [
    "#Aquí nos devuelve retorno, volatilidad y Sharpe, respectivamente hablando, al maximizar el ratio\n",
    "\n",
    "statistics(opts['x'].round(5))"
   ]
  },
  {
   "cell_type": "code",
   "execution_count": 28,
   "metadata": {},
   "outputs": [],
   "source": [
    "#Creamos una función que minimice la volatilidad\n",
    "\n",
    "def min_func_variance(weights):\n",
    "    return statistics(weights)[1] ** 2"
   ]
  },
  {
   "cell_type": "code",
   "execution_count": 29,
   "metadata": {},
   "outputs": [],
   "source": [
    "optv = sco.minimize(min_func_variance, noa * [1. / noa,], method='SLSQP',\n",
    "bounds=bnds, constraints=cons)"
   ]
  },
  {
   "cell_type": "code",
   "execution_count": 30,
   "metadata": {},
   "outputs": [
    {
     "data": {
      "text/plain": [
       " message: Optimization terminated successfully\n",
       " success: True\n",
       "  status: 0\n",
       "     fun: 0.026745068666373766\n",
       "       x: [ 3.394e-01  7.968e-03  5.696e-01  8.303e-02]\n",
       "     nit: 8\n",
       "     jac: [ 5.337e-02  5.324e-02  5.351e-02  5.384e-02]\n",
       "    nfev: 40\n",
       "    njev: 8"
      ]
     },
     "execution_count": 30,
     "metadata": {},
     "output_type": "execute_result"
    }
   ],
   "source": [
    "optv"
   ]
  },
  {
   "cell_type": "code",
   "execution_count": 31,
   "metadata": {},
   "outputs": [
    {
     "data": {
      "text/plain": [
       "array([0.33944, 0.00797, 0.56956, 0.08303])"
      ]
     },
     "execution_count": 31,
     "metadata": {},
     "output_type": "execute_result"
    }
   ],
   "source": [
    "#Vamos viendo que proporción de cada uno de los elementos nos recomienda en base a minimizar la volatilidad\n",
    "\n",
    "optv['x'].round(5)"
   ]
  },
  {
   "cell_type": "code",
   "execution_count": 32,
   "metadata": {},
   "outputs": [
    {
     "data": {
      "text/plain": [
       "[0.20596795617325336, 0.16353919190619517, 1.2594409558498676]"
      ]
     },
     "execution_count": 32,
     "metadata": {},
     "output_type": "execute_result"
    }
   ],
   "source": [
    "#Aquí nos devuelve retorno, volatilidad y Sharpe, respectivamente hablando, al maximizar el ratio\n",
    "\n",
    "statistics(optv['x'].round(5))"
   ]
  },
  {
   "cell_type": "code",
   "execution_count": 33,
   "metadata": {},
   "outputs": [],
   "source": [
    "cons = ({'type' : 'eq', 'fun' : lambda x: statistics(x)[0] - tret},\n",
    "       {'type' : 'eq', 'fun' : lambda x: np.sum(x) - 1})\n",
    "bnds = tuple((0, 1) for x in weights) "
   ]
  },
  {
   "cell_type": "code",
   "execution_count": 34,
   "metadata": {},
   "outputs": [],
   "source": [
    "def min_func_port(weights):\n",
    "    return statistics(weights)[1]"
   ]
  },
  {
   "cell_type": "code",
   "execution_count": 35,
   "metadata": {},
   "outputs": [
    {
     "name": "stdout",
     "output_type": "stream",
     "text": [
      "CPU times: total: 19.9 s\n",
      "Wall time: 22.9 s\n"
     ]
    }
   ],
   "source": [
    "%%time\n",
    "trets = np.linspace(0.0, 0.25, 50)\n",
    "tvols = []\n",
    "for tret in trets:\n",
    "    cons = ({'type': 'eq', 'fun': lambda x: statistics(x)[0] - tret},\n",
    "    {'type': 'eq', 'fun': lambda x: np.sum(x) - 1})\n",
    "    res = sco.minimize(min_func_port, noa * [1. / noa,], method='SLSQP',\n",
    "    bounds=bnds, constraints=cons)\n",
    "    tvols.append(res['fun'])\n",
    "tvols = np.array(tvols)    "
   ]
  },
  {
   "cell_type": "code",
   "execution_count": 36,
   "metadata": {},
   "outputs": [
    {
     "data": {
      "text/plain": [
       "<matplotlib.colorbar.Colorbar at 0x2432e2465d0>"
      ]
     },
     "execution_count": 36,
     "metadata": {},
     "output_type": "execute_result"
    },
    {
     "data": {
      "image/png": "[encoded data removed]",
      "text/plain": [
       "<Figure size 800x600 with 2 Axes>"
      ]
     },
     "metadata": {},
     "output_type": "display_data"
    }
   ],
   "source": [
    "#Corroboramos frontera de eficiencia y portfolio óptimo\n",
    "\n",
    "plt.figure(figsize=(8,6))\n",
    "\"random portfolios\"\n",
    "plt.scatter(pvols, prets, c = prets / pvols, marker = 'o')\n",
    "\"Efficient frontier\"\n",
    "plt.scatter(tvols, trets, c = trets / tvols, marker = 'x')\n",
    "\"Portfolio with highest sharpe ratio\"\n",
    "plt.plot(statistics(opts['x'])[1], statistics(opts['x'])[0], 'r*', markersize = 15.0)\n",
    "\"Portfolio with the minimum expected volatility\"\n",
    "plt.plot(statistics(optv['x'])[1], statistics(optv['x'])[0], 'y*', markersize = 15.0)\n",
    "plt.grid(True)\n",
    "plt.xlabel('Expected volatility')\n",
    "plt.ylabel('Expected return')\n",
    "plt.colorbar(label = 'Sharpe ratio')"
   ]
  },
  {
   "cell_type": "code",
   "execution_count": 37,
   "metadata": {},
   "outputs": [],
   "source": [
    "ind = np.argmin(tvols)\n",
    "evols = tvols[ind:]\n",
    "erets = trets[ind:]"
   ]
  },
  {
   "cell_type": "code",
   "execution_count": 38,
   "metadata": {},
   "outputs": [],
   "source": [
    "tck = sci.splrep(evols, erets)"
   ]
  },
  {
   "cell_type": "code",
   "execution_count": 39,
   "metadata": {},
   "outputs": [],
   "source": [
    "#Volvemos a crear nuestra frontera de eficiencia pero a través de la interpolación de splines\n",
    "\n",
    "def f(x):\n",
    "    \"Efficient frontier function(splines interpolation)\"\n",
    "    return sci.splev(x, tck, der = 0)\n",
    "def df(x):\n",
    "    \"First derivative of efficient frontier function\"\n",
    "    return sci.splev(x, tck, der = 1)"
   ]
  },
  {
   "cell_type": "code",
   "execution_count": 41,
   "metadata": {},
   "outputs": [],
   "source": [
    "#Generamos la ecuación de la market line, teniendo en cuenta rf = 0\n",
    "\n",
    "def equations(p, rf=0.0178):\n",
    "    eq1 = rf - p[0]\n",
    "    eq2 = rf + p[1] * p[2] - f(p[2])\n",
    "    eq3 = p[1] - df(p[2])\n",
    "    return eq1, eq2, eq3"
   ]
  },
  {
   "cell_type": "code",
   "execution_count": 42,
   "metadata": {},
   "outputs": [
    {
     "data": {
      "text/plain": [
       "array([0.0178    , 1.22610716, 0.16368363])"
      ]
     },
     "execution_count": 42,
     "metadata": {},
     "output_type": "execute_result"
    }
   ],
   "source": [
    "opt = sco.fsolve(equations, [0.01, 0.5, 0.15])\n",
    "opt"
   ]
  },
  {
   "cell_type": "code",
   "execution_count": 43,
   "metadata": {},
   "outputs": [
    {
     "data": {
      "text/plain": [
       "array([ 0.,  0., -0.])"
      ]
     },
     "execution_count": 43,
     "metadata": {},
     "output_type": "execute_result"
    }
   ],
   "source": [
    "np.round(equations(opt),6)"
   ]
  },
  {
   "cell_type": "code",
   "execution_count": 44,
   "metadata": {},
   "outputs": [
    {
     "data": {
      "text/plain": [
       "<matplotlib.colorbar.Colorbar at 0x2432e339f90>"
      ]
     },
     "execution_count": 44,
     "metadata": {},
     "output_type": "execute_result"
    },
    {
     "data": {
      "image/png": "[encoded data removed]",
      "text/plain": [
       "<Figure size 800x400 with 2 Axes>"
      ]
     },
     "metadata": {},
     "output_type": "display_data"
    }
   ],
   "source": [
    "\n",
    "#En este caso nuestro portafolio no se adecua a la market line, en parte porque tuvimos en cuenta una risk free igual a 0, es decir no hay costo al endeudarse ni rentabilidad al invertir en activos libre de riesgo. Esto directamente incentiva en la inversión de\n",
    "#activos con riesgo, incentivando el apalancamiento. POR LO QUE DICHO PORTFOLIO SOLO ES ÚTIL A FINES EJEMPLIFICATIVOS, NO EN TÉRMINOS REALES\n",
    "\n",
    "plt.figure(figsize=(8, 4))\n",
    "plt.scatter(pvols, prets,\n",
    " c=(prets - 0.01) / pvols, marker='o')\n",
    " # random portfolio composition\n",
    "plt.plot(evols, erets, 'g', lw=4.0)\n",
    " # efficient frontier\n",
    "cx = np.linspace(0.0, 0.3)\n",
    "plt.plot(cx, opt[0] + opt[1] * cx, lw=1.5)\n",
    " # capital market line\n",
    "plt.plot(opt[2], f(opt[2]), 'r*', markersize=15.0)\n",
    "plt.grid(True)\n",
    "plt.axhline(0, color='k', ls='--', lw=2.0)\n",
    "plt.axvline(0, color='k', ls='--', lw=2.0)\n",
    "plt.xlabel('expected volatility')\n",
    "plt.ylabel('expected return')\n",
    "plt.colorbar(label='Sharpe ratio')"
   ]
  },
  {
   "cell_type": "code",
   "execution_count": 45,
   "metadata": {},
   "outputs": [],
   "source": [
    "cons = ({'type': 'eq', 'fun': lambda x: statistics(x)[0] - f(opt[2])},\n",
    " {'type': 'eq', 'fun': lambda x: np.sum(x) - 1})\n",
    "res = sco.minimize(min_func_port, noa * [1. / noa,], method='SLSQP',\n",
    " bounds=bnds, constraints=cons)"
   ]
  },
  {
   "cell_type": "code",
   "execution_count": 46,
   "metadata": {},
   "outputs": [
    {
     "data": {
      "text/plain": [
       "array([0.367, 0.052, 0.464, 0.117])"
      ]
     },
     "execution_count": 46,
     "metadata": {},
     "output_type": "execute_result"
    }
   ],
   "source": [
    "#Esta seria la proporción final de inversión en cada uno de los activos\n",
    "\n",
    "res['x'].round(3)"
   ]
  },
  {
   "cell_type": "code",
   "execution_count": 47,
   "metadata": {},
   "outputs": [],
   "source": [
    "prop = res['x'].round(3)"
   ]
  },
  {
   "cell_type": "code",
   "execution_count": 52,
   "metadata": {},
   "outputs": [
    {
     "ename": "AttributeError",
     "evalue": "'numpy.ndarray' object has no attribute 'to_numpy'",
     "output_type": "error",
     "traceback": [
      "\u001b[1;31m---------------------------------------------------------------------------\u001b[0m",
      "\u001b[1;31mAttributeError\u001b[0m                            Traceback (most recent call last)",
      "Cell \u001b[1;32mIn[52], line 1\u001b[0m\n\u001b[1;32m----> 1\u001b[0m symbols_arr \u001b[39m=\u001b[39m symbols\u001b[39m.\u001b[39;49mto_numpy()\u001b[39m.\u001b[39mreshape(\u001b[39m-\u001b[39m\u001b[39m1\u001b[39m, \u001b[39m1\u001b[39m)\n\u001b[0;32m      2\u001b[0m result \u001b[39m=\u001b[39m np\u001b[39m.\u001b[39mconcatenate((symbols_arr, prop\u001b[39m.\u001b[39mreshape(\u001b[39m-\u001b[39m\u001b[39m1\u001b[39m, \u001b[39m1\u001b[39m)), axis\u001b[39m=\u001b[39m\u001b[39m1\u001b[39m)\n",
      "\u001b[1;31mAttributeError\u001b[0m: 'numpy.ndarray' object has no attribute 'to_numpy'"
     ]
    }
   ],
   "source": [
    "\n",
    "symbols_arr = symbols.to_numpy().reshape(-1, 1)\n",
    "result = np.concatenate((symbols_arr, prop.reshape(-1, 1)), axis=1)"
   ]
  },
  {
   "cell_type": "code",
   "execution_count": 49,
   "metadata": {},
   "outputs": [
    {
     "ename": "NameError",
     "evalue": "name 'result' is not defined",
     "output_type": "error",
     "traceback": [
      "\u001b[1;31m---------------------------------------------------------------------------\u001b[0m",
      "\u001b[1;31mNameError\u001b[0m                                 Traceback (most recent call last)",
      "Cell \u001b[1;32mIn[49], line 3\u001b[0m\n\u001b[0;32m      1\u001b[0m \u001b[39m# Y aquí quedaría explicitada con cada símbolo\u001b[39;00m\n\u001b[1;32m----> 3\u001b[0m result\n",
      "\u001b[1;31mNameError\u001b[0m: name 'result' is not defined"
     ]
    }
   ],
   "source": [
    "# Y aquí quedaría explicitada con cada símbolo\n",
    "\n",
    "result"
   ]
  },
  {
   "cell_type": "code",
   "execution_count": null,
   "metadata": {},
   "outputs": [],
   "source": []
  }
 ],
 "metadata": {
  "kernelspec": {
   "display_name": "Python 3",
   "language": "python",
   "name": "python3"
  },
  "language_info": {
   "codemirror_mode": {
    "name": "ipython",
    "version": 3
   },
   "file_extension": ".py",
   "mimetype": "text/x-python",
   "name": "python",
   "nbconvert_exporter": "python",
   "pygments_lexer": "ipython3",
   "version": "3.11.3"
  },
  "orig_nbformat": 4
 },
 "nbformat": 4,
 "nbformat_minor": 2
}
